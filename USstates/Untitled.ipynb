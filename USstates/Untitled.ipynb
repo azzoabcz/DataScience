{
 "cells": [
  {
   "cell_type": "code",
   "execution_count": 4,
   "metadata": {},
   "outputs": [],
   "source": [
    "# !curl -0 https://raw.githubusercontent.com/jakevdp/data-USstates/master/state-population.csv"
   ]
  },
  {
   "cell_type": "code",
   "execution_count": 24,
   "metadata": {},
   "outputs": [],
   "source": [
    "import pandas as pd\n",
    "import numpy as np\n",
    "from pandas import Series, DataFrame"
   ]
  },
  {
   "cell_type": "code",
   "execution_count": 2,
   "metadata": {
    "tags": []
   },
   "outputs": [
    {
     "output_type": "stream",
     "name": "stdout",
     "text": "state/region     ages  year  population\n0           AL  under18  2012   1117489.0\n1           AL    total  2012   4817528.0\n2           AL  under18  2010   1130966.0\n     state  area (sq. mi)\n0  Alabama          52423\n1   Alaska         656425\n2  Arizona         114006\n     state abbreviation\n0  Alabama           AL\n1   Alaska           AK\n2  Arizona           AZ\n"
    }
   ],
   "source": [
    "pop = pd.read_csv('state-population.csv')\n",
    "areas = pd.read_csv('state-areas.csv')\n",
    "abbreves = pd.read_csv('state-abbrevs.csv')\n",
    "print(pop.head(3)); print(areas.head(3)); print(abbreves.head(3))"
   ]
  },
  {
   "cell_type": "code",
   "execution_count": 3,
   "metadata": {},
   "outputs": [],
   "source": [
    "merged = pd.merge(pop, abbreves\n",
    "                  , how='outer'\n",
    "                  ,left_on='state/region'\n",
    "                  , right_on='abbreviation'\n",
    "                 )"
   ]
  },
  {
   "cell_type": "code",
   "execution_count": 4,
   "metadata": {},
   "outputs": [],
   "source": [
    "merged = merged.drop('abbreviation', 1)"
   ]
  },
  {
   "cell_type": "code",
   "execution_count": 5,
   "metadata": {},
   "outputs": [
    {
     "output_type": "execute_result",
     "data": {
      "text/plain": "     state/region     ages  year   population    state\n0              AL  under18  2012    1117489.0  Alabama\n1              AL    total  2012    4817528.0  Alabama\n2              AL  under18  2010    1130966.0  Alabama\n3              AL    total  2010    4785570.0  Alabama\n4              AL  under18  2011    1125763.0  Alabama\n...           ...      ...   ...          ...      ...\n2539          USA    total  2010  309326295.0      NaN\n2540          USA  under18  2011   73902222.0      NaN\n2541          USA    total  2011  311582564.0      NaN\n2542          USA  under18  2012   73708179.0      NaN\n2543          USA    total  2012  313873685.0      NaN\n\n[2544 rows x 5 columns]",
      "text/html": "<div>\n<style scoped>\n    .dataframe tbody tr th:only-of-type {\n        vertical-align: middle;\n    }\n\n    .dataframe tbody tr th {\n        vertical-align: top;\n    }\n\n    .dataframe thead th {\n        text-align: right;\n    }\n</style>\n<table border=\"1\" class=\"dataframe\">\n  <thead>\n    <tr style=\"text-align: right;\">\n      <th></th>\n      <th>state/region</th>\n      <th>ages</th>\n      <th>year</th>\n      <th>population</th>\n      <th>state</th>\n    </tr>\n  </thead>\n  <tbody>\n    <tr>\n      <th>0</th>\n      <td>AL</td>\n      <td>under18</td>\n      <td>2012</td>\n      <td>1117489.0</td>\n      <td>Alabama</td>\n    </tr>\n    <tr>\n      <th>1</th>\n      <td>AL</td>\n      <td>total</td>\n      <td>2012</td>\n      <td>4817528.0</td>\n      <td>Alabama</td>\n    </tr>\n    <tr>\n      <th>2</th>\n      <td>AL</td>\n      <td>under18</td>\n      <td>2010</td>\n      <td>1130966.0</td>\n      <td>Alabama</td>\n    </tr>\n    <tr>\n      <th>3</th>\n      <td>AL</td>\n      <td>total</td>\n      <td>2010</td>\n      <td>4785570.0</td>\n      <td>Alabama</td>\n    </tr>\n    <tr>\n      <th>4</th>\n      <td>AL</td>\n      <td>under18</td>\n      <td>2011</td>\n      <td>1125763.0</td>\n      <td>Alabama</td>\n    </tr>\n    <tr>\n      <th>...</th>\n      <td>...</td>\n      <td>...</td>\n      <td>...</td>\n      <td>...</td>\n      <td>...</td>\n    </tr>\n    <tr>\n      <th>2539</th>\n      <td>USA</td>\n      <td>total</td>\n      <td>2010</td>\n      <td>309326295.0</td>\n      <td>NaN</td>\n    </tr>\n    <tr>\n      <th>2540</th>\n      <td>USA</td>\n      <td>under18</td>\n      <td>2011</td>\n      <td>73902222.0</td>\n      <td>NaN</td>\n    </tr>\n    <tr>\n      <th>2541</th>\n      <td>USA</td>\n      <td>total</td>\n      <td>2011</td>\n      <td>311582564.0</td>\n      <td>NaN</td>\n    </tr>\n    <tr>\n      <th>2542</th>\n      <td>USA</td>\n      <td>under18</td>\n      <td>2012</td>\n      <td>73708179.0</td>\n      <td>NaN</td>\n    </tr>\n    <tr>\n      <th>2543</th>\n      <td>USA</td>\n      <td>total</td>\n      <td>2012</td>\n      <td>313873685.0</td>\n      <td>NaN</td>\n    </tr>\n  </tbody>\n</table>\n<p>2544 rows × 5 columns</p>\n</div>"
     },
     "metadata": {},
     "execution_count": 5
    }
   ],
   "source": [
    "merged"
   ]
  },
  {
   "cell_type": "code",
   "execution_count": 6,
   "metadata": {},
   "outputs": [
    {
     "output_type": "execute_result",
     "data": {
      "text/plain": "state/region    False\nages            False\nyear            False\npopulation       True\nstate            True\ndtype: bool"
     },
     "metadata": {},
     "execution_count": 6
    }
   ],
   "source": [
    "# merged.isnull()\n",
    "merged.isnull().any()"
   ]
  },
  {
   "cell_type": "code",
   "execution_count": 8,
   "metadata": {},
   "outputs": [
    {
     "output_type": "execute_result",
     "data": {
      "text/plain": "     state/region     ages  year  population state\n2448           PR  under18  1990         NaN   NaN\n2449           PR    total  1990         NaN   NaN\n2450           PR    total  1991         NaN   NaN\n2451           PR  under18  1991         NaN   NaN\n2452           PR    total  1993         NaN   NaN",
      "text/html": "<div>\n<style scoped>\n    .dataframe tbody tr th:only-of-type {\n        vertical-align: middle;\n    }\n\n    .dataframe tbody tr th {\n        vertical-align: top;\n    }\n\n    .dataframe thead th {\n        text-align: right;\n    }\n</style>\n<table border=\"1\" class=\"dataframe\">\n  <thead>\n    <tr style=\"text-align: right;\">\n      <th></th>\n      <th>state/region</th>\n      <th>ages</th>\n      <th>year</th>\n      <th>population</th>\n      <th>state</th>\n    </tr>\n  </thead>\n  <tbody>\n    <tr>\n      <th>2448</th>\n      <td>PR</td>\n      <td>under18</td>\n      <td>1990</td>\n      <td>NaN</td>\n      <td>NaN</td>\n    </tr>\n    <tr>\n      <th>2449</th>\n      <td>PR</td>\n      <td>total</td>\n      <td>1990</td>\n      <td>NaN</td>\n      <td>NaN</td>\n    </tr>\n    <tr>\n      <th>2450</th>\n      <td>PR</td>\n      <td>total</td>\n      <td>1991</td>\n      <td>NaN</td>\n      <td>NaN</td>\n    </tr>\n    <tr>\n      <th>2451</th>\n      <td>PR</td>\n      <td>under18</td>\n      <td>1991</td>\n      <td>NaN</td>\n      <td>NaN</td>\n    </tr>\n    <tr>\n      <th>2452</th>\n      <td>PR</td>\n      <td>total</td>\n      <td>1993</td>\n      <td>NaN</td>\n      <td>NaN</td>\n    </tr>\n  </tbody>\n</table>\n</div>"
     },
     "metadata": {},
     "execution_count": 8
    }
   ],
   "source": [
    "merged[merged['population'].isnull()].head()"
   ]
  },
  {
   "cell_type": "code",
   "execution_count": 12,
   "metadata": {},
   "outputs": [
    {
     "output_type": "execute_result",
     "data": {
      "text/plain": "     state/region     ages  year   population    state\n0              AL  under18  2012    1117489.0  Alabama\n1              AL    total  2012    4817528.0  Alabama\n2              AL  under18  2010    1130966.0  Alabama\n3              AL    total  2010    4785570.0  Alabama\n4              AL  under18  2011    1125763.0  Alabama\n...           ...      ...   ...          ...      ...\n2539          USA    total  2010  309326295.0      NaN\n2540          USA  under18  2011   73902222.0      NaN\n2541          USA    total  2011  311582564.0      NaN\n2542          USA  under18  2012   73708179.0      NaN\n2543          USA    total  2012  313873685.0      NaN\n\n[2544 rows x 5 columns]",
      "text/html": "<div>\n<style scoped>\n    .dataframe tbody tr th:only-of-type {\n        vertical-align: middle;\n    }\n\n    .dataframe tbody tr th {\n        vertical-align: top;\n    }\n\n    .dataframe thead th {\n        text-align: right;\n    }\n</style>\n<table border=\"1\" class=\"dataframe\">\n  <thead>\n    <tr style=\"text-align: right;\">\n      <th></th>\n      <th>state/region</th>\n      <th>ages</th>\n      <th>year</th>\n      <th>population</th>\n      <th>state</th>\n    </tr>\n  </thead>\n  <tbody>\n    <tr>\n      <th>0</th>\n      <td>AL</td>\n      <td>under18</td>\n      <td>2012</td>\n      <td>1117489.0</td>\n      <td>Alabama</td>\n    </tr>\n    <tr>\n      <th>1</th>\n      <td>AL</td>\n      <td>total</td>\n      <td>2012</td>\n      <td>4817528.0</td>\n      <td>Alabama</td>\n    </tr>\n    <tr>\n      <th>2</th>\n      <td>AL</td>\n      <td>under18</td>\n      <td>2010</td>\n      <td>1130966.0</td>\n      <td>Alabama</td>\n    </tr>\n    <tr>\n      <th>3</th>\n      <td>AL</td>\n      <td>total</td>\n      <td>2010</td>\n      <td>4785570.0</td>\n      <td>Alabama</td>\n    </tr>\n    <tr>\n      <th>4</th>\n      <td>AL</td>\n      <td>under18</td>\n      <td>2011</td>\n      <td>1125763.0</td>\n      <td>Alabama</td>\n    </tr>\n    <tr>\n      <th>...</th>\n      <td>...</td>\n      <td>...</td>\n      <td>...</td>\n      <td>...</td>\n      <td>...</td>\n    </tr>\n    <tr>\n      <th>2539</th>\n      <td>USA</td>\n      <td>total</td>\n      <td>2010</td>\n      <td>309326295.0</td>\n      <td>NaN</td>\n    </tr>\n    <tr>\n      <th>2540</th>\n      <td>USA</td>\n      <td>under18</td>\n      <td>2011</td>\n      <td>73902222.0</td>\n      <td>NaN</td>\n    </tr>\n    <tr>\n      <th>2541</th>\n      <td>USA</td>\n      <td>total</td>\n      <td>2011</td>\n      <td>311582564.0</td>\n      <td>NaN</td>\n    </tr>\n    <tr>\n      <th>2542</th>\n      <td>USA</td>\n      <td>under18</td>\n      <td>2012</td>\n      <td>73708179.0</td>\n      <td>NaN</td>\n    </tr>\n    <tr>\n      <th>2543</th>\n      <td>USA</td>\n      <td>total</td>\n      <td>2012</td>\n      <td>313873685.0</td>\n      <td>NaN</td>\n    </tr>\n  </tbody>\n</table>\n<p>2544 rows × 5 columns</p>\n</div>"
     },
     "metadata": {},
     "execution_count": 12
    }
   ],
   "source": [
    "merged"
   ]
  },
  {
   "cell_type": "code",
   "execution_count": 15,
   "metadata": {},
   "outputs": [
    {
     "output_type": "execute_result",
     "data": {
      "text/plain": "array(['PR', 'USA'], dtype=object)"
     },
     "metadata": {},
     "execution_count": 15
    }
   ],
   "source": [
    "merged.loc[merged['state'].isnull(), 'state/region'].unique()"
   ]
  },
  {
   "cell_type": "code",
   "execution_count": 27,
   "metadata": {},
   "outputs": [
    {
     "output_type": "execute_result",
     "data": {
      "text/plain": "     state/region     ages  year   population    state\n0              AL  under18  2012    1117489.0  Alabama\n1              AL    total  2012    4817528.0  Alabama\n2              AL  under18  2010    1130966.0  Alabama\n3              AL    total  2010    4785570.0  Alabama\n4              AL  under18  2011    1125763.0  Alabama\n...           ...      ...   ...          ...      ...\n2539          USA    total  2010  309326295.0      NaN\n2540          USA  under18  2011   73902222.0      NaN\n2541          USA    total  2011  311582564.0      NaN\n2542          USA  under18  2012   73708179.0      NaN\n2543          USA    total  2012  313873685.0      NaN\n\n[2544 rows x 5 columns]",
      "text/html": "<div>\n<style scoped>\n    .dataframe tbody tr th:only-of-type {\n        vertical-align: middle;\n    }\n\n    .dataframe tbody tr th {\n        vertical-align: top;\n    }\n\n    .dataframe thead th {\n        text-align: right;\n    }\n</style>\n<table border=\"1\" class=\"dataframe\">\n  <thead>\n    <tr style=\"text-align: right;\">\n      <th></th>\n      <th>state/region</th>\n      <th>ages</th>\n      <th>year</th>\n      <th>population</th>\n      <th>state</th>\n    </tr>\n  </thead>\n  <tbody>\n    <tr>\n      <th>0</th>\n      <td>AL</td>\n      <td>under18</td>\n      <td>2012</td>\n      <td>1117489.0</td>\n      <td>Alabama</td>\n    </tr>\n    <tr>\n      <th>1</th>\n      <td>AL</td>\n      <td>total</td>\n      <td>2012</td>\n      <td>4817528.0</td>\n      <td>Alabama</td>\n    </tr>\n    <tr>\n      <th>2</th>\n      <td>AL</td>\n      <td>under18</td>\n      <td>2010</td>\n      <td>1130966.0</td>\n      <td>Alabama</td>\n    </tr>\n    <tr>\n      <th>3</th>\n      <td>AL</td>\n      <td>total</td>\n      <td>2010</td>\n      <td>4785570.0</td>\n      <td>Alabama</td>\n    </tr>\n    <tr>\n      <th>4</th>\n      <td>AL</td>\n      <td>under18</td>\n      <td>2011</td>\n      <td>1125763.0</td>\n      <td>Alabama</td>\n    </tr>\n    <tr>\n      <th>...</th>\n      <td>...</td>\n      <td>...</td>\n      <td>...</td>\n      <td>...</td>\n      <td>...</td>\n    </tr>\n    <tr>\n      <th>2539</th>\n      <td>USA</td>\n      <td>total</td>\n      <td>2010</td>\n      <td>309326295.0</td>\n      <td>NaN</td>\n    </tr>\n    <tr>\n      <th>2540</th>\n      <td>USA</td>\n      <td>under18</td>\n      <td>2011</td>\n      <td>73902222.0</td>\n      <td>NaN</td>\n    </tr>\n    <tr>\n      <th>2541</th>\n      <td>USA</td>\n      <td>total</td>\n      <td>2011</td>\n      <td>311582564.0</td>\n      <td>NaN</td>\n    </tr>\n    <tr>\n      <th>2542</th>\n      <td>USA</td>\n      <td>under18</td>\n      <td>2012</td>\n      <td>73708179.0</td>\n      <td>NaN</td>\n    </tr>\n    <tr>\n      <th>2543</th>\n      <td>USA</td>\n      <td>total</td>\n      <td>2012</td>\n      <td>313873685.0</td>\n      <td>NaN</td>\n    </tr>\n  </tbody>\n</table>\n<p>2544 rows × 5 columns</p>\n</div>"
     },
     "metadata": {},
     "execution_count": 27
    }
   ],
   "source": [
    "merged"
   ]
  },
  {
   "cell_type": "code",
   "execution_count": 31,
   "metadata": {},
   "outputs": [
    {
     "output_type": "execute_result",
     "data": {
      "text/plain": "                                     population   year\nstate/region state                                    \nAK           Alaska                1.998907e+07  96072\nAL           Alabama               1.342974e+08  96072\nAR           Arkansas              8.095872e+07  96072\nAZ           Arizona               1.602037e+08  96072\nCA           California            1.042036e+09  96072\nCO           Colorado              1.309345e+08  96072\nCT           Connecticut           1.021652e+08  96072\nDC           District of Columbia  1.678336e+07  96072\nDE           Delaware              2.390016e+07  96072\nFL           Florida               4.839901e+08  96072",
      "text/html": "<div>\n<style scoped>\n    .dataframe tbody tr th:only-of-type {\n        vertical-align: middle;\n    }\n\n    .dataframe tbody tr th {\n        vertical-align: top;\n    }\n\n    .dataframe thead th {\n        text-align: right;\n    }\n</style>\n<table border=\"1\" class=\"dataframe\">\n  <thead>\n    <tr style=\"text-align: right;\">\n      <th></th>\n      <th></th>\n      <th>population</th>\n      <th>year</th>\n    </tr>\n    <tr>\n      <th>state/region</th>\n      <th>state</th>\n      <th></th>\n      <th></th>\n    </tr>\n  </thead>\n  <tbody>\n    <tr>\n      <th>AK</th>\n      <th>Alaska</th>\n      <td>1.998907e+07</td>\n      <td>96072</td>\n    </tr>\n    <tr>\n      <th>AL</th>\n      <th>Alabama</th>\n      <td>1.342974e+08</td>\n      <td>96072</td>\n    </tr>\n    <tr>\n      <th>AR</th>\n      <th>Arkansas</th>\n      <td>8.095872e+07</td>\n      <td>96072</td>\n    </tr>\n    <tr>\n      <th>AZ</th>\n      <th>Arizona</th>\n      <td>1.602037e+08</td>\n      <td>96072</td>\n    </tr>\n    <tr>\n      <th>CA</th>\n      <th>California</th>\n      <td>1.042036e+09</td>\n      <td>96072</td>\n    </tr>\n    <tr>\n      <th>CO</th>\n      <th>Colorado</th>\n      <td>1.309345e+08</td>\n      <td>96072</td>\n    </tr>\n    <tr>\n      <th>CT</th>\n      <th>Connecticut</th>\n      <td>1.021652e+08</td>\n      <td>96072</td>\n    </tr>\n    <tr>\n      <th>DC</th>\n      <th>District of Columbia</th>\n      <td>1.678336e+07</td>\n      <td>96072</td>\n    </tr>\n    <tr>\n      <th>DE</th>\n      <th>Delaware</th>\n      <td>2.390016e+07</td>\n      <td>96072</td>\n    </tr>\n    <tr>\n      <th>FL</th>\n      <th>Florida</th>\n      <td>4.839901e+08</td>\n      <td>96072</td>\n    </tr>\n  </tbody>\n</table>\n</div>"
     },
     "metadata": {},
     "execution_count": 31
    }
   ],
   "source": [
    "pd.pivot_table(merged, index=['state/region','state'],aggfunc='sum').head(10)"
   ]
  },
  {
   "cell_type": "code",
   "execution_count": 47,
   "metadata": {},
   "outputs": [],
   "source": [
    "merged.loc[merged['state/region'] == 'PR', 'state'] = 'Puerto Rico'\n",
    "merged.loc[merged['state/region'] == 'USA', 'state'] = 'United States'"
   ]
  },
  {
   "cell_type": "code",
   "execution_count": 50,
   "metadata": {},
   "outputs": [
    {
     "output_type": "execute_result",
     "data": {
      "text/plain": "state/region    False\nages            False\nyear            False\npopulation       True\nstate           False\ndtype: bool"
     },
     "metadata": {},
     "execution_count": 50
    }
   ],
   "source": [
    "merged.isnull().any()"
   ]
  },
  {
   "cell_type": "code",
   "execution_count": 51,
   "metadata": {},
   "outputs": [],
   "source": [
    "final = pd.merge(merged, areas, on='state', how = 'left')"
   ]
  },
  {
   "cell_type": "code",
   "execution_count": 53,
   "metadata": {},
   "outputs": [
    {
     "output_type": "execute_result",
     "data": {
      "text/plain": "     state/region     ages  year   population          state  area (sq. mi)\n0              AL  under18  2012    1117489.0        Alabama        52423.0\n1              AL    total  2012    4817528.0        Alabama        52423.0\n2              AL  under18  2010    1130966.0        Alabama        52423.0\n3              AL    total  2010    4785570.0        Alabama        52423.0\n4              AL  under18  2011    1125763.0        Alabama        52423.0\n...           ...      ...   ...          ...            ...            ...\n2539          USA    total  2010  309326295.0  United States            NaN\n2540          USA  under18  2011   73902222.0  United States            NaN\n2541          USA    total  2011  311582564.0  United States            NaN\n2542          USA  under18  2012   73708179.0  United States            NaN\n2543          USA    total  2012  313873685.0  United States            NaN\n\n[2544 rows x 6 columns]",
      "text/html": "<div>\n<style scoped>\n    .dataframe tbody tr th:only-of-type {\n        vertical-align: middle;\n    }\n\n    .dataframe tbody tr th {\n        vertical-align: top;\n    }\n\n    .dataframe thead th {\n        text-align: right;\n    }\n</style>\n<table border=\"1\" class=\"dataframe\">\n  <thead>\n    <tr style=\"text-align: right;\">\n      <th></th>\n      <th>state/region</th>\n      <th>ages</th>\n      <th>year</th>\n      <th>population</th>\n      <th>state</th>\n      <th>area (sq. mi)</th>\n    </tr>\n  </thead>\n  <tbody>\n    <tr>\n      <th>0</th>\n      <td>AL</td>\n      <td>under18</td>\n      <td>2012</td>\n      <td>1117489.0</td>\n      <td>Alabama</td>\n      <td>52423.0</td>\n    </tr>\n    <tr>\n      <th>1</th>\n      <td>AL</td>\n      <td>total</td>\n      <td>2012</td>\n      <td>4817528.0</td>\n      <td>Alabama</td>\n      <td>52423.0</td>\n    </tr>\n    <tr>\n      <th>2</th>\n      <td>AL</td>\n      <td>under18</td>\n      <td>2010</td>\n      <td>1130966.0</td>\n      <td>Alabama</td>\n      <td>52423.0</td>\n    </tr>\n    <tr>\n      <th>3</th>\n      <td>AL</td>\n      <td>total</td>\n      <td>2010</td>\n      <td>4785570.0</td>\n      <td>Alabama</td>\n      <td>52423.0</td>\n    </tr>\n    <tr>\n      <th>4</th>\n      <td>AL</td>\n      <td>under18</td>\n      <td>2011</td>\n      <td>1125763.0</td>\n      <td>Alabama</td>\n      <td>52423.0</td>\n    </tr>\n    <tr>\n      <th>...</th>\n      <td>...</td>\n      <td>...</td>\n      <td>...</td>\n      <td>...</td>\n      <td>...</td>\n      <td>...</td>\n    </tr>\n    <tr>\n      <th>2539</th>\n      <td>USA</td>\n      <td>total</td>\n      <td>2010</td>\n      <td>309326295.0</td>\n      <td>United States</td>\n      <td>NaN</td>\n    </tr>\n    <tr>\n      <th>2540</th>\n      <td>USA</td>\n      <td>under18</td>\n      <td>2011</td>\n      <td>73902222.0</td>\n      <td>United States</td>\n      <td>NaN</td>\n    </tr>\n    <tr>\n      <th>2541</th>\n      <td>USA</td>\n      <td>total</td>\n      <td>2011</td>\n      <td>311582564.0</td>\n      <td>United States</td>\n      <td>NaN</td>\n    </tr>\n    <tr>\n      <th>2542</th>\n      <td>USA</td>\n      <td>under18</td>\n      <td>2012</td>\n      <td>73708179.0</td>\n      <td>United States</td>\n      <td>NaN</td>\n    </tr>\n    <tr>\n      <th>2543</th>\n      <td>USA</td>\n      <td>total</td>\n      <td>2012</td>\n      <td>313873685.0</td>\n      <td>United States</td>\n      <td>NaN</td>\n    </tr>\n  </tbody>\n</table>\n<p>2544 rows × 6 columns</p>\n</div>"
     },
     "metadata": {},
     "execution_count": 53
    }
   ],
   "source": [
    "final"
   ]
  },
  {
   "cell_type": "code",
   "execution_count": 57,
   "metadata": {},
   "outputs": [
    {
     "output_type": "execute_result",
     "data": {
      "text/plain": "state/region     False\nages             False\nyear             False\npopulation        True\nstate            False\narea (sq. mi)     True\ndtype: bool"
     },
     "metadata": {},
     "execution_count": 57
    }
   ],
   "source": [
    "final.isnull().any()"
   ]
  },
  {
   "cell_type": "code",
   "execution_count": null,
   "metadata": {},
   "outputs": [],
   "source": [
    "final['state'][final]"
   ]
  },
  {
   "cell_type": "code",
   "execution_count": 64,
   "metadata": {},
   "outputs": [
    {
     "output_type": "execute_result",
     "data": {
      "text/plain": "     state/region     ages  year   population          state  area (sq. mi)\n0              AL  under18  2012    1117489.0        Alabama        52423.0\n1              AL    total  2012    4817528.0        Alabama        52423.0\n2              AL  under18  2010    1130966.0        Alabama        52423.0\n3              AL    total  2010    4785570.0        Alabama        52423.0\n4              AL  under18  2011    1125763.0        Alabama        52423.0\n...           ...      ...   ...          ...            ...            ...\n2539          USA    total  2010  309326295.0  United States            NaN\n2540          USA  under18  2011   73902222.0  United States            NaN\n2541          USA    total  2011  311582564.0  United States            NaN\n2542          USA  under18  2012   73708179.0  United States            NaN\n2543          USA    total  2012  313873685.0  United States            NaN\n\n[2544 rows x 6 columns]",
      "text/html": "<div>\n<style scoped>\n    .dataframe tbody tr th:only-of-type {\n        vertical-align: middle;\n    }\n\n    .dataframe tbody tr th {\n        vertical-align: top;\n    }\n\n    .dataframe thead th {\n        text-align: right;\n    }\n</style>\n<table border=\"1\" class=\"dataframe\">\n  <thead>\n    <tr style=\"text-align: right;\">\n      <th></th>\n      <th>state/region</th>\n      <th>ages</th>\n      <th>year</th>\n      <th>population</th>\n      <th>state</th>\n      <th>area (sq. mi)</th>\n    </tr>\n  </thead>\n  <tbody>\n    <tr>\n      <th>0</th>\n      <td>AL</td>\n      <td>under18</td>\n      <td>2012</td>\n      <td>1117489.0</td>\n      <td>Alabama</td>\n      <td>52423.0</td>\n    </tr>\n    <tr>\n      <th>1</th>\n      <td>AL</td>\n      <td>total</td>\n      <td>2012</td>\n      <td>4817528.0</td>\n      <td>Alabama</td>\n      <td>52423.0</td>\n    </tr>\n    <tr>\n      <th>2</th>\n      <td>AL</td>\n      <td>under18</td>\n      <td>2010</td>\n      <td>1130966.0</td>\n      <td>Alabama</td>\n      <td>52423.0</td>\n    </tr>\n    <tr>\n      <th>3</th>\n      <td>AL</td>\n      <td>total</td>\n      <td>2010</td>\n      <td>4785570.0</td>\n      <td>Alabama</td>\n      <td>52423.0</td>\n    </tr>\n    <tr>\n      <th>4</th>\n      <td>AL</td>\n      <td>under18</td>\n      <td>2011</td>\n      <td>1125763.0</td>\n      <td>Alabama</td>\n      <td>52423.0</td>\n    </tr>\n    <tr>\n      <th>...</th>\n      <td>...</td>\n      <td>...</td>\n      <td>...</td>\n      <td>...</td>\n      <td>...</td>\n      <td>...</td>\n    </tr>\n    <tr>\n      <th>2539</th>\n      <td>USA</td>\n      <td>total</td>\n      <td>2010</td>\n      <td>309326295.0</td>\n      <td>United States</td>\n      <td>NaN</td>\n    </tr>\n    <tr>\n      <th>2540</th>\n      <td>USA</td>\n      <td>under18</td>\n      <td>2011</td>\n      <td>73902222.0</td>\n      <td>United States</td>\n      <td>NaN</td>\n    </tr>\n    <tr>\n      <th>2541</th>\n      <td>USA</td>\n      <td>total</td>\n      <td>2011</td>\n      <td>311582564.0</td>\n      <td>United States</td>\n      <td>NaN</td>\n    </tr>\n    <tr>\n      <th>2542</th>\n      <td>USA</td>\n      <td>under18</td>\n      <td>2012</td>\n      <td>73708179.0</td>\n      <td>United States</td>\n      <td>NaN</td>\n    </tr>\n    <tr>\n      <th>2543</th>\n      <td>USA</td>\n      <td>total</td>\n      <td>2012</td>\n      <td>313873685.0</td>\n      <td>United States</td>\n      <td>NaN</td>\n    </tr>\n  </tbody>\n</table>\n<p>2544 rows × 6 columns</p>\n</div>"
     },
     "metadata": {},
     "execution_count": 64
    }
   ],
   "source": [
    "final"
   ]
  },
  {
   "cell_type": "code",
   "execution_count": 63,
   "metadata": {},
   "outputs": [
    {
     "output_type": "execute_result",
     "data": {
      "text/plain": "     state/region     ages  year   population          state\n0              AL  under18  2012    1117489.0        Alabama\n1              AL    total  2012    4817528.0        Alabama\n2              AL  under18  2010    1130966.0        Alabama\n3              AL    total  2010    4785570.0        Alabama\n4              AL  under18  2011    1125763.0        Alabama\n...           ...      ...   ...          ...            ...\n2539          USA    total  2010  309326295.0  United States\n2540          USA  under18  2011   73902222.0  United States\n2541          USA    total  2011  311582564.0  United States\n2542          USA  under18  2012   73708179.0  United States\n2543          USA    total  2012  313873685.0  United States\n\n[2544 rows x 5 columns]",
      "text/html": "<div>\n<style scoped>\n    .dataframe tbody tr th:only-of-type {\n        vertical-align: middle;\n    }\n\n    .dataframe tbody tr th {\n        vertical-align: top;\n    }\n\n    .dataframe thead th {\n        text-align: right;\n    }\n</style>\n<table border=\"1\" class=\"dataframe\">\n  <thead>\n    <tr style=\"text-align: right;\">\n      <th></th>\n      <th>state/region</th>\n      <th>ages</th>\n      <th>year</th>\n      <th>population</th>\n      <th>state</th>\n    </tr>\n  </thead>\n  <tbody>\n    <tr>\n      <th>0</th>\n      <td>AL</td>\n      <td>under18</td>\n      <td>2012</td>\n      <td>1117489.0</td>\n      <td>Alabama</td>\n    </tr>\n    <tr>\n      <th>1</th>\n      <td>AL</td>\n      <td>total</td>\n      <td>2012</td>\n      <td>4817528.0</td>\n      <td>Alabama</td>\n    </tr>\n    <tr>\n      <th>2</th>\n      <td>AL</td>\n      <td>under18</td>\n      <td>2010</td>\n      <td>1130966.0</td>\n      <td>Alabama</td>\n    </tr>\n    <tr>\n      <th>3</th>\n      <td>AL</td>\n      <td>total</td>\n      <td>2010</td>\n      <td>4785570.0</td>\n      <td>Alabama</td>\n    </tr>\n    <tr>\n      <th>4</th>\n      <td>AL</td>\n      <td>under18</td>\n      <td>2011</td>\n      <td>1125763.0</td>\n      <td>Alabama</td>\n    </tr>\n    <tr>\n      <th>...</th>\n      <td>...</td>\n      <td>...</td>\n      <td>...</td>\n      <td>...</td>\n      <td>...</td>\n    </tr>\n    <tr>\n      <th>2539</th>\n      <td>USA</td>\n      <td>total</td>\n      <td>2010</td>\n      <td>309326295.0</td>\n      <td>United States</td>\n    </tr>\n    <tr>\n      <th>2540</th>\n      <td>USA</td>\n      <td>under18</td>\n      <td>2011</td>\n      <td>73902222.0</td>\n      <td>United States</td>\n    </tr>\n    <tr>\n      <th>2541</th>\n      <td>USA</td>\n      <td>total</td>\n      <td>2011</td>\n      <td>311582564.0</td>\n      <td>United States</td>\n    </tr>\n    <tr>\n      <th>2542</th>\n      <td>USA</td>\n      <td>under18</td>\n      <td>2012</td>\n      <td>73708179.0</td>\n      <td>United States</td>\n    </tr>\n    <tr>\n      <th>2543</th>\n      <td>USA</td>\n      <td>total</td>\n      <td>2012</td>\n      <td>313873685.0</td>\n      <td>United States</td>\n    </tr>\n  </tbody>\n</table>\n<p>2544 rows × 5 columns</p>\n</div>"
     },
     "metadata": {},
     "execution_count": 63
    }
   ],
   "source": [
    "final[['state/region','ages','year','population','state']]"
   ]
  },
  {
   "cell_type": "code",
   "execution_count": 73,
   "metadata": {},
   "outputs": [
    {
     "output_type": "execute_result",
     "data": {
      "text/plain": "array(['United States'], dtype=object)"
     },
     "metadata": {},
     "execution_count": 73
    }
   ],
   "source": [
    "final['state'][final['area (sq. mi)'].isnull()].unique()"
   ]
  },
  {
   "cell_type": "code",
   "execution_count": 77,
   "metadata": {},
   "outputs": [
    {
     "output_type": "execute_result",
     "data": {
      "text/plain": "area (sq. mi)\n52423.0    NaN\n52423.0    NaN\n52423.0    NaN\n52423.0    NaN\n52423.0    NaN\n          ... \nNaN        NaN\nNaN        NaN\nNaN        NaN\nNaN        NaN\nNaN        NaN\nName: state, Length: 2544, dtype: object"
     },
     "metadata": {},
     "execution_count": 77
    }
   ],
   "source": [
    "final['state'][final['area (sq. mi)']]"
   ]
  },
  {
   "cell_type": "code",
   "execution_count": 78,
   "metadata": {},
   "outputs": [
    {
     "output_type": "execute_result",
     "data": {
      "text/plain": "  state/region     ages  year  population    state  area (sq. mi)\n0           AL  under18  2012   1117489.0  Alabama        52423.0\n1           AL    total  2012   4817528.0  Alabama        52423.0\n2           AL  under18  2010   1130966.0  Alabama        52423.0\n3           AL    total  2010   4785570.0  Alabama        52423.0\n4           AL  under18  2011   1125763.0  Alabama        52423.0",
      "text/html": "<div>\n<style scoped>\n    .dataframe tbody tr th:only-of-type {\n        vertical-align: middle;\n    }\n\n    .dataframe tbody tr th {\n        vertical-align: top;\n    }\n\n    .dataframe thead th {\n        text-align: right;\n    }\n</style>\n<table border=\"1\" class=\"dataframe\">\n  <thead>\n    <tr style=\"text-align: right;\">\n      <th></th>\n      <th>state/region</th>\n      <th>ages</th>\n      <th>year</th>\n      <th>population</th>\n      <th>state</th>\n      <th>area (sq. mi)</th>\n    </tr>\n  </thead>\n  <tbody>\n    <tr>\n      <th>0</th>\n      <td>AL</td>\n      <td>under18</td>\n      <td>2012</td>\n      <td>1117489.0</td>\n      <td>Alabama</td>\n      <td>52423.0</td>\n    </tr>\n    <tr>\n      <th>1</th>\n      <td>AL</td>\n      <td>total</td>\n      <td>2012</td>\n      <td>4817528.0</td>\n      <td>Alabama</td>\n      <td>52423.0</td>\n    </tr>\n    <tr>\n      <th>2</th>\n      <td>AL</td>\n      <td>under18</td>\n      <td>2010</td>\n      <td>1130966.0</td>\n      <td>Alabama</td>\n      <td>52423.0</td>\n    </tr>\n    <tr>\n      <th>3</th>\n      <td>AL</td>\n      <td>total</td>\n      <td>2010</td>\n      <td>4785570.0</td>\n      <td>Alabama</td>\n      <td>52423.0</td>\n    </tr>\n    <tr>\n      <th>4</th>\n      <td>AL</td>\n      <td>under18</td>\n      <td>2011</td>\n      <td>1125763.0</td>\n      <td>Alabama</td>\n      <td>52423.0</td>\n    </tr>\n  </tbody>\n</table>\n</div>"
     },
     "metadata": {},
     "execution_count": 78
    }
   ],
   "source": [
    "final.dropna(inplace=True)\n",
    "\n",
    "final.head()"
   ]
  },
  {
   "cell_type": "code",
   "execution_count": 80,
   "metadata": {},
   "outputs": [],
   "source": [
    "data2010 = final.query(\"year == 2010 & ages=='total'\")"
   ]
  },
  {
   "cell_type": "code",
   "execution_count": 87,
   "metadata": {},
   "outputs": [
    {
     "output_type": "execute_result",
     "data": {
      "text/plain": "           state/region   ages  year  population  area (sq. mi)\nstate                                                          \nAlabama              AL  total  2010   4785570.0        52423.0\nAlaska               AK  total  2010    713868.0       656425.0\nArizona              AZ  total  2010   6408790.0       114006.0\nArkansas             AR  total  2010   2922280.0        53182.0\nCalifornia           CA  total  2010  37333601.0       163707.0",
      "text/html": "<div>\n<style scoped>\n    .dataframe tbody tr th:only-of-type {\n        vertical-align: middle;\n    }\n\n    .dataframe tbody tr th {\n        vertical-align: top;\n    }\n\n    .dataframe thead th {\n        text-align: right;\n    }\n</style>\n<table border=\"1\" class=\"dataframe\">\n  <thead>\n    <tr style=\"text-align: right;\">\n      <th></th>\n      <th>state/region</th>\n      <th>ages</th>\n      <th>year</th>\n      <th>population</th>\n      <th>area (sq. mi)</th>\n    </tr>\n    <tr>\n      <th>state</th>\n      <th></th>\n      <th></th>\n      <th></th>\n      <th></th>\n      <th></th>\n    </tr>\n  </thead>\n  <tbody>\n    <tr>\n      <th>Alabama</th>\n      <td>AL</td>\n      <td>total</td>\n      <td>2010</td>\n      <td>4785570.0</td>\n      <td>52423.0</td>\n    </tr>\n    <tr>\n      <th>Alaska</th>\n      <td>AK</td>\n      <td>total</td>\n      <td>2010</td>\n      <td>713868.0</td>\n      <td>656425.0</td>\n    </tr>\n    <tr>\n      <th>Arizona</th>\n      <td>AZ</td>\n      <td>total</td>\n      <td>2010</td>\n      <td>6408790.0</td>\n      <td>114006.0</td>\n    </tr>\n    <tr>\n      <th>Arkansas</th>\n      <td>AR</td>\n      <td>total</td>\n      <td>2010</td>\n      <td>2922280.0</td>\n      <td>53182.0</td>\n    </tr>\n    <tr>\n      <th>California</th>\n      <td>CA</td>\n      <td>total</td>\n      <td>2010</td>\n      <td>37333601.0</td>\n      <td>163707.0</td>\n    </tr>\n  </tbody>\n</table>\n</div>"
     },
     "metadata": {},
     "execution_count": 87
    }
   ],
   "source": [
    "data2010.head()"
   ]
  },
  {
   "cell_type": "code",
   "execution_count": 96,
   "metadata": {},
   "outputs": [],
   "source": [
    "# data2010.set_index('state', inplace=True)\n"
   ]
  },
  {
   "cell_type": "code",
   "execution_count": 90,
   "metadata": {},
   "outputs": [],
   "source": [
    "density = data2010['population'] / data2010['area (sq. mi)']"
   ]
  },
  {
   "cell_type": "code",
   "execution_count": 92,
   "metadata": {},
   "outputs": [],
   "source": [
    "density.sort_values(ascending=False, inplace=True)"
   ]
  },
  {
   "cell_type": "code",
   "execution_count": 94,
   "metadata": {},
   "outputs": [
    {
     "output_type": "execute_result",
     "data": {
      "text/plain": "state\nDistrict of Columbia    8898.897059\nPuerto Rico             1058.665149\nNew Jersey              1009.253268\nRhode Island             681.339159\nConnecticut              645.600649\nMassachusetts            621.815538\nMaryland                 466.445797\nDelaware                 460.445752\nNew York                 356.094135\nFlorida                  286.597129\ndtype: float64"
     },
     "metadata": {},
     "execution_count": 94
    }
   ],
   "source": [
    "density.head(10)"
   ]
  },
  {
   "cell_type": "code",
   "execution_count": 95,
   "metadata": {},
   "outputs": [
    {
     "output_type": "execute_result",
     "data": {
      "text/plain": "state\nSouth Dakota    10.583512\nNorth Dakota     9.537565\nMontana          6.736171\nWyoming          5.768079\nAlaska           1.087509\ndtype: float64"
     },
     "metadata": {},
     "execution_count": 95
    }
   ],
   "source": [
    "density.tail()"
   ]
  },
  {
   "cell_type": "code",
   "execution_count": null,
   "metadata": {},
   "outputs": [],
   "source": []
  },
  {
   "cell_type": "code",
   "execution_count": null,
   "metadata": {},
   "outputs": [],
   "source": []
  }
 ],
 "metadata": {
  "kernelspec": {
   "display_name": "Python 3",
   "language": "python",
   "name": "python3"
  },
  "language_info": {
   "codemirror_mode": {
    "name": "ipython",
    "version": 3
   },
   "file_extension": ".py",
   "mimetype": "text/x-python",
   "name": "python",
   "nbconvert_exporter": "python",
   "pygments_lexer": "ipython3",
   "version": "3.7.6-final"
  }
 },
 "nbformat": 4,
 "nbformat_minor": 4
}